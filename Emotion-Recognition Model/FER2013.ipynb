{
 "cells": [
  {
   "cell_type": "code",
   "execution_count": 77,
   "source": [
    "#imports\r\n",
    "import pandas as pd\r\n",
    "import numpy as np\r\n",
    "import matplotlib.pyplot as plt\r\n",
    "from tensorflow.keras.utils import to_categorical"
   ],
   "outputs": [],
   "metadata": {}
  },
  {
   "cell_type": "code",
   "execution_count": 53,
   "source": [
    "#read the data\r\n",
    "path = 'data/'\r\n",
    "local_path = 'data/'"
   ],
   "outputs": [],
   "metadata": {}
  },
  {
   "cell_type": "code",
   "execution_count": 54,
   "source": [
    "pd.options.mode.chained_assignment = None  # default='warn'  #to suppress SettingWithCopyWarning\r\n",
    "\r\n",
    "#Reading the dataset\r\n",
    "dataset = pd.read_csv(local_path + 'Fer2013/icml_face_data.csv')\r\n",
    "\r\n",
    "#Obtaining train data where usage is \"Training\"\r\n",
    "train = dataset[dataset[\" Usage\"] == \"Training\"]\r\n",
    "\r\n",
    "#Obtaining test data where usage is \"PublicTest\"\r\n",
    "test = dataset[dataset[\" Usage\"] == \"PublicTest\"]\r\n"
   ],
   "outputs": [],
   "metadata": {}
  },
  {
   "cell_type": "code",
   "execution_count": 55,
   "source": [
    "train"
   ],
   "outputs": [
    {
     "output_type": "execute_result",
     "data": {
      "text/html": [
       "<div>\n",
       "<style scoped>\n",
       "    .dataframe tbody tr th:only-of-type {\n",
       "        vertical-align: middle;\n",
       "    }\n",
       "\n",
       "    .dataframe tbody tr th {\n",
       "        vertical-align: top;\n",
       "    }\n",
       "\n",
       "    .dataframe thead th {\n",
       "        text-align: right;\n",
       "    }\n",
       "</style>\n",
       "<table border=\"1\" class=\"dataframe\">\n",
       "  <thead>\n",
       "    <tr style=\"text-align: right;\">\n",
       "      <th></th>\n",
       "      <th>emotion</th>\n",
       "      <th>Usage</th>\n",
       "      <th>pixels</th>\n",
       "    </tr>\n",
       "  </thead>\n",
       "  <tbody>\n",
       "    <tr>\n",
       "      <th>0</th>\n",
       "      <td>0</td>\n",
       "      <td>Training</td>\n",
       "      <td>70 80 82 72 58 58 60 63 54 58 60 48 89 115 121...</td>\n",
       "    </tr>\n",
       "    <tr>\n",
       "      <th>1</th>\n",
       "      <td>0</td>\n",
       "      <td>Training</td>\n",
       "      <td>151 150 147 155 148 133 111 140 170 174 182 15...</td>\n",
       "    </tr>\n",
       "    <tr>\n",
       "      <th>2</th>\n",
       "      <td>2</td>\n",
       "      <td>Training</td>\n",
       "      <td>231 212 156 164 174 138 161 173 182 200 106 38...</td>\n",
       "    </tr>\n",
       "    <tr>\n",
       "      <th>3</th>\n",
       "      <td>4</td>\n",
       "      <td>Training</td>\n",
       "      <td>24 32 36 30 32 23 19 20 30 41 21 22 32 34 21 1...</td>\n",
       "    </tr>\n",
       "    <tr>\n",
       "      <th>4</th>\n",
       "      <td>6</td>\n",
       "      <td>Training</td>\n",
       "      <td>4 0 0 0 0 0 0 0 0 0 0 0 3 15 23 28 48 50 58 84...</td>\n",
       "    </tr>\n",
       "    <tr>\n",
       "      <th>...</th>\n",
       "      <td>...</td>\n",
       "      <td>...</td>\n",
       "      <td>...</td>\n",
       "    </tr>\n",
       "    <tr>\n",
       "      <th>28704</th>\n",
       "      <td>2</td>\n",
       "      <td>Training</td>\n",
       "      <td>84 85 85 85 85 85 85 85 86 86 86 87 86 86 91 9...</td>\n",
       "    </tr>\n",
       "    <tr>\n",
       "      <th>28705</th>\n",
       "      <td>0</td>\n",
       "      <td>Training</td>\n",
       "      <td>114 112 113 113 111 111 112 113 115 113 114 11...</td>\n",
       "    </tr>\n",
       "    <tr>\n",
       "      <th>28706</th>\n",
       "      <td>4</td>\n",
       "      <td>Training</td>\n",
       "      <td>74 81 87 89 95 100 98 93 105 120 127 133 146 1...</td>\n",
       "    </tr>\n",
       "    <tr>\n",
       "      <th>28707</th>\n",
       "      <td>0</td>\n",
       "      <td>Training</td>\n",
       "      <td>222 227 203 90 86 90 84 77 94 87 99 119 134 14...</td>\n",
       "    </tr>\n",
       "    <tr>\n",
       "      <th>28708</th>\n",
       "      <td>4</td>\n",
       "      <td>Training</td>\n",
       "      <td>195 199 205 206 205 203 206 209 208 210 212 21...</td>\n",
       "    </tr>\n",
       "  </tbody>\n",
       "</table>\n",
       "<p>28709 rows × 3 columns</p>\n",
       "</div>"
      ],
      "text/plain": [
       "       emotion     Usage                                             pixels\n",
       "0            0  Training  70 80 82 72 58 58 60 63 54 58 60 48 89 115 121...\n",
       "1            0  Training  151 150 147 155 148 133 111 140 170 174 182 15...\n",
       "2            2  Training  231 212 156 164 174 138 161 173 182 200 106 38...\n",
       "3            4  Training  24 32 36 30 32 23 19 20 30 41 21 22 32 34 21 1...\n",
       "4            6  Training  4 0 0 0 0 0 0 0 0 0 0 0 3 15 23 28 48 50 58 84...\n",
       "...        ...       ...                                                ...\n",
       "28704        2  Training  84 85 85 85 85 85 85 85 86 86 86 87 86 86 91 9...\n",
       "28705        0  Training  114 112 113 113 111 111 112 113 115 113 114 11...\n",
       "28706        4  Training  74 81 87 89 95 100 98 93 105 120 127 133 146 1...\n",
       "28707        0  Training  222 227 203 90 86 90 84 77 94 87 99 119 134 14...\n",
       "28708        4  Training  195 199 205 206 205 203 206 209 208 210 212 21...\n",
       "\n",
       "[28709 rows x 3 columns]"
      ]
     },
     "metadata": {},
     "execution_count": 55
    }
   ],
   "metadata": {}
  },
  {
   "cell_type": "code",
   "execution_count": 56,
   "source": [
    "#Converting \" \" separated pixel values to list\r\n",
    "train[' pixels'] = train[' pixels'].apply(lambda image_px : np.fromstring(image_px, sep = ' '))\r\n",
    "test[ ' pixels'] = test[' pixels'].apply(lambda image_px : np.fromstring(image_px, sep = ' '))\r\n",
    "dataset[' pixels'] = dataset[' pixels'].apply(lambda image_px : np.fromstring(image_px, sep = ' '))"
   ],
   "outputs": [],
   "metadata": {}
  },
  {
   "cell_type": "code",
   "execution_count": 60,
   "source": [
    "train"
   ],
   "outputs": [
    {
     "output_type": "execute_result",
     "data": {
      "text/html": [
       "<div>\n",
       "<style scoped>\n",
       "    .dataframe tbody tr th:only-of-type {\n",
       "        vertical-align: middle;\n",
       "    }\n",
       "\n",
       "    .dataframe tbody tr th {\n",
       "        vertical-align: top;\n",
       "    }\n",
       "\n",
       "    .dataframe thead th {\n",
       "        text-align: right;\n",
       "    }\n",
       "</style>\n",
       "<table border=\"1\" class=\"dataframe\">\n",
       "  <thead>\n",
       "    <tr style=\"text-align: right;\">\n",
       "      <th></th>\n",
       "      <th>emotion</th>\n",
       "      <th>Usage</th>\n",
       "      <th>pixels</th>\n",
       "    </tr>\n",
       "  </thead>\n",
       "  <tbody>\n",
       "    <tr>\n",
       "      <th>0</th>\n",
       "      <td>0</td>\n",
       "      <td>Training</td>\n",
       "      <td>[70.0, 80.0, 82.0, 72.0, 58.0, 58.0, 60.0, 63....</td>\n",
       "    </tr>\n",
       "    <tr>\n",
       "      <th>1</th>\n",
       "      <td>0</td>\n",
       "      <td>Training</td>\n",
       "      <td>[151.0, 150.0, 147.0, 155.0, 148.0, 133.0, 111...</td>\n",
       "    </tr>\n",
       "    <tr>\n",
       "      <th>2</th>\n",
       "      <td>2</td>\n",
       "      <td>Training</td>\n",
       "      <td>[231.0, 212.0, 156.0, 164.0, 174.0, 138.0, 161...</td>\n",
       "    </tr>\n",
       "    <tr>\n",
       "      <th>3</th>\n",
       "      <td>4</td>\n",
       "      <td>Training</td>\n",
       "      <td>[24.0, 32.0, 36.0, 30.0, 32.0, 23.0, 19.0, 20....</td>\n",
       "    </tr>\n",
       "    <tr>\n",
       "      <th>4</th>\n",
       "      <td>6</td>\n",
       "      <td>Training</td>\n",
       "      <td>[4.0, 0.0, 0.0, 0.0, 0.0, 0.0, 0.0, 0.0, 0.0, ...</td>\n",
       "    </tr>\n",
       "    <tr>\n",
       "      <th>...</th>\n",
       "      <td>...</td>\n",
       "      <td>...</td>\n",
       "      <td>...</td>\n",
       "    </tr>\n",
       "    <tr>\n",
       "      <th>28704</th>\n",
       "      <td>2</td>\n",
       "      <td>Training</td>\n",
       "      <td>[84.0, 85.0, 85.0, 85.0, 85.0, 85.0, 85.0, 85....</td>\n",
       "    </tr>\n",
       "    <tr>\n",
       "      <th>28705</th>\n",
       "      <td>0</td>\n",
       "      <td>Training</td>\n",
       "      <td>[114.0, 112.0, 113.0, 113.0, 111.0, 111.0, 112...</td>\n",
       "    </tr>\n",
       "    <tr>\n",
       "      <th>28706</th>\n",
       "      <td>4</td>\n",
       "      <td>Training</td>\n",
       "      <td>[74.0, 81.0, 87.0, 89.0, 95.0, 100.0, 98.0, 93...</td>\n",
       "    </tr>\n",
       "    <tr>\n",
       "      <th>28707</th>\n",
       "      <td>0</td>\n",
       "      <td>Training</td>\n",
       "      <td>[222.0, 227.0, 203.0, 90.0, 86.0, 90.0, 84.0, ...</td>\n",
       "    </tr>\n",
       "    <tr>\n",
       "      <th>28708</th>\n",
       "      <td>4</td>\n",
       "      <td>Training</td>\n",
       "      <td>[195.0, 199.0, 205.0, 206.0, 205.0, 203.0, 206...</td>\n",
       "    </tr>\n",
       "  </tbody>\n",
       "</table>\n",
       "<p>28709 rows × 3 columns</p>\n",
       "</div>"
      ],
      "text/plain": [
       "       emotion     Usage                                             pixels\n",
       "0            0  Training  [70.0, 80.0, 82.0, 72.0, 58.0, 58.0, 60.0, 63....\n",
       "1            0  Training  [151.0, 150.0, 147.0, 155.0, 148.0, 133.0, 111...\n",
       "2            2  Training  [231.0, 212.0, 156.0, 164.0, 174.0, 138.0, 161...\n",
       "3            4  Training  [24.0, 32.0, 36.0, 30.0, 32.0, 23.0, 19.0, 20....\n",
       "4            6  Training  [4.0, 0.0, 0.0, 0.0, 0.0, 0.0, 0.0, 0.0, 0.0, ...\n",
       "...        ...       ...                                                ...\n",
       "28704        2  Training  [84.0, 85.0, 85.0, 85.0, 85.0, 85.0, 85.0, 85....\n",
       "28705        0  Training  [114.0, 112.0, 113.0, 113.0, 111.0, 111.0, 112...\n",
       "28706        4  Training  [74.0, 81.0, 87.0, 89.0, 95.0, 100.0, 98.0, 93...\n",
       "28707        0  Training  [222.0, 227.0, 203.0, 90.0, 86.0, 90.0, 84.0, ...\n",
       "28708        4  Training  [195.0, 199.0, 205.0, 206.0, 205.0, 203.0, 206...\n",
       "\n",
       "[28709 rows x 3 columns]"
      ]
     },
     "metadata": {},
     "execution_count": 60
    }
   ],
   "metadata": {}
  },
  {
   "cell_type": "code",
   "execution_count": 61,
   "source": [
    "plt.figure(figsize=(12,6))\r\n",
    "plt.hist(dataset['emotion'], bins=30)\r\n",
    "plt.title(\"Distribution of the number of images per emotion\")\r\n",
    "plt.show()"
   ],
   "outputs": [
    {
     "output_type": "display_data",
     "data": {
      "image/png": "[encoded data removed]",
      "text/plain": [
       "<Figure size 864x432 with 1 Axes>"
      ]
     },
     "metadata": {
      "needs_background": "light"
     }
    }
   ],
   "metadata": {}
  },
  {
   "cell_type": "code",
   "execution_count": 62,
   "source": [
    "print(train.shape)\r\n",
    "print(test.shape)\r\n"
   ],
   "outputs": [
    {
     "output_type": "stream",
     "name": "stdout",
     "text": [
      "(28709, 3)\n",
      "(3589, 3)\n"
     ]
    }
   ],
   "metadata": {}
  },
  {
   "cell_type": "code",
   "execution_count": 63,
   "source": [
    "##Create the data set\r\n",
    "shape_x = 48\r\n",
    "shape_y = 48"
   ],
   "outputs": [],
   "metadata": {}
  },
  {
   "cell_type": "code",
   "execution_count": 100,
   "source": [
    "#train\r\n",
    "X_train = train.iloc[:, 2].values\r\n",
    "y_train = train.iloc[:, 0].values\r\n",
    "\r\n",
    "#test\r\n",
    "X_test = test.iloc[:, 2].values\r\n",
    "y_test = test.iloc[:, 0].values\r\n",
    "\r\n",
    "#all\r\n",
    "X = dataset.iloc[:,2].values\r\n",
    "y = dataset.iloc[:,0].values"
   ],
   "outputs": [],
   "metadata": {}
  },
  {
   "cell_type": "code",
   "execution_count": 101,
   "source": [
    "print(X_train.shape)\r\n",
    "print(X_train[0].shape)"
   ],
   "outputs": [
    {
     "output_type": "stream",
     "name": "stdout",
     "text": [
      "(28709,)\n",
      "(2304,)\n"
     ]
    }
   ],
   "metadata": {}
  },
  {
   "cell_type": "code",
   "execution_count": 102,
   "source": [
    "#np.vstack stack arrays in sequence vertically (picking element row wise)\r\n",
    "X_train = np.vstack(X_train)\r\n",
    "X_test = np.vstack(X_test)\r\n",
    "X = np.vstack(X)"
   ],
   "outputs": [],
   "metadata": {}
  },
  {
   "cell_type": "code",
   "execution_count": 103,
   "source": [
    "# :)\r\n",
    "\r\n",
    "print(X_train.shape)\r\n",
    "print(X_train[0].shape)"
   ],
   "outputs": [
    {
     "output_type": "stream",
     "name": "stdout",
     "text": [
      "(28709, 2304)\n",
      "(2304,)\n"
     ]
    }
   ],
   "metadata": {}
  },
  {
   "cell_type": "code",
   "execution_count": 104,
   "source": [
    "#Reshape X_train, y_train,X_test,y_test in desired formats\r\n",
    "X_train = np.reshape(X_train, (X_train.shape[0],48,48,1))\r\n",
    "y_train = np.reshape(y_train, (y_train.shape[0],1))\r\n",
    "\r\n",
    "X_test = np.reshape(X_test, (X_test.shape[0],48,48,1))\r\n",
    "y_test = np.reshape(y_test, (y_test.shape[0],1))\r\n",
    "\r\n",
    "X = np.reshape(X, (X.shape[0],48,48,1))\r\n",
    "y = np.reshape(y, (y.shape[0],1))\r\n",
    "\r\n",
    "print(\"Shape of X_train and y_train is \" + str(X_train.shape) +\" and \" + str(y_train.shape) +\" respectively.\")\r\n",
    "print(\"Shape of X_test and y_test is \" + str(X_test.shape) +\" and \" + str(y_test.shape) +\" respectively.\")"
   ],
   "outputs": [
    {
     "output_type": "stream",
     "name": "stdout",
     "text": [
      "Shape of X_train and y_train is (28709, 48, 48, 1) and (28709, 1) respectively.\n",
      "Shape of X_test and y_test is (3589, 48, 48, 1) and (3589, 1) respectively.\n"
     ]
    }
   ],
   "metadata": {}
  },
  {
   "cell_type": "code",
   "execution_count": 105,
   "source": [
    "# Change to float datatype\r\n",
    "X_train = X_train.astype('float32')\r\n",
    "X_test = X_test.astype('float32')\r\n",
    "X = X.astype('float32')"
   ],
   "outputs": [],
   "metadata": {}
  },
  {
   "cell_type": "code",
   "execution_count": 106,
   "source": [
    "#Feature Scaling\r\n",
    "# Scale the data to lie between 0 to 1\r\n",
    "X_train /= 255\r\n",
    "X_test /= 255\r\n",
    "X /= 255"
   ],
   "outputs": [],
   "metadata": {}
  },
  {
   "cell_type": "code",
   "execution_count": 107,
   "source": [
    "# Change the labels from integer to categorical data\r\n",
    "train_labels_one_hot = to_categorical(y_train)\r\n",
    "test_labels_one_hot = to_categorical(y_test)\r\n",
    "y_labels_one_hot = to_categorical(y)"
   ],
   "outputs": [],
   "metadata": {}
  },
  {
   "cell_type": "code",
   "execution_count": 109,
   "source": [
    "#Define Labels\r\n",
    "\r\n",
    "# Find the unique numbers from the train labels\r\n",
    "classes = np.unique(y_train)\r\n",
    "nClasses = len(classes)\r\n",
    "print('Total number of outputs : ', nClasses)\r\n",
    "print('Output classes : ', classes)\r\n",
    "\r\n",
    "# Find the shape of input images and create the variable input_shape\r\n",
    "nRows,nCols,nDims = X_train.shape[1:]\r\n",
    "input_shape = (nRows, nCols, nDims)"
   ],
   "outputs": [
    {
     "output_type": "stream",
     "name": "stdout",
     "text": [
      "Total number of outputs :  7\n",
      "Output classes :  [0 1 2 3 4 5 6]\n"
     ]
    }
   ],
   "metadata": {}
  },
  {
   "cell_type": "code",
   "execution_count": 110,
   "source": [
    "#Defining labels \r\n",
    "def get_label(argument):\r\n",
    "    labels = {0:'Angry', 1:'Disgust', 2:'Fear', 3:'Happy', 4:'Sad' , 5:'Surprise', 6:'Neutral'}\r\n",
    "    return(labels.get(argument, \"Invalid emotion\"))"
   ],
   "outputs": [],
   "metadata": {}
  },
  {
   "cell_type": "code",
   "execution_count": 111,
   "source": [
    "plt.figure(figsize=[10,5])\r\n",
    "\r\n",
    "# Display the first image in training data\r\n",
    "plt.subplot(121)\r\n",
    "plt.imshow(np.squeeze(X_train[25,:,:], axis = 2), cmap='gray')\r\n",
    "plt.title(\"Ground Truth : {}\".format(get_label(int(y_train[0]))))\r\n",
    "\r\n",
    "# Display the first image in testing data\r\n",
    "plt.subplot(122)\r\n",
    "plt.imshow(np.squeeze(X_test[26,:,:], axis = 2), cmap='gray')\r\n",
    "plt.title(\"Ground Truth : {}\".format(get_label(int(y_test[1500]))))"
   ],
   "outputs": [
    {
     "output_type": "execute_result",
     "data": {
      "text/plain": [
       "Text(0.5, 1.0, 'Ground Truth : Surprise')"
      ]
     },
     "metadata": {},
     "execution_count": 111
    },
    {
     "output_type": "display_data",
     "data": {
      "image/png": "[encoded data removed]",
      "text/plain": [
       "<Figure size 720x360 with 2 Axes>"
      ]
     },
     "metadata": {
      "needs_background": "light"
     }
    }
   ],
   "metadata": {}
  },
  {
   "cell_type": "code",
   "execution_count": 112,
   "source": [
    "# Detect Face\r\n",
    "\r\n",
    "def detect_face(frame):\r\n",
    "    \r\n",
    "    #Cascade classifier pre-trained model\r\n",
    "    cascPath = '/usr/local/lib/python3.7/site-packages/cv2/data/haarcascade_frontalface_default.xml'\r\n",
    "    faceCascade = cv2.CascadeClassifier(cascPath)\r\n",
    "    \r\n",
    "    #BGR -> Gray conversion\r\n",
    "    gray = cv2.cvtColor(frame, cv2.COLOR_BGR2GRAY)\r\n",
    "    \r\n",
    "    #Cascade MultiScale classifier\r\n",
    "    detected_faces = faceCascade.detectMultiScale(gray,scaleFactor=1.1,minNeighbors=6,\r\n",
    "                                                  minSize=(shape_x, shape_y),\r\n",
    "                                                  flags=cv2.CASCADE_SCALE_IMAGE)\r\n",
    "    coord = []\r\n",
    "    \r\n",
    "    for x, y, w, h in detected_faces :\r\n",
    "        if w > 100 :\r\n",
    "            sub_img=frame[y:y+h,x:x+w]\r\n",
    "            #cv2.rectangle(frame,(x,y),(x+w,y+h),(0, 255,255),1)\r\n",
    "            coord.append([x,y,w,h])\r\n",
    "    \r\n",
    "    return gray, detected_faces, coord"
   ],
   "outputs": [],
   "metadata": {}
  },
  {
   "cell_type": "code",
   "execution_count": null,
   "source": [
    "#Extraire les features faciales\r\n",
    "def extract_face_features(faces, offset_coefficients=(0.075, 0.05)):\r\n",
    "    gray = faces[0]\r\n",
    "    detected_face = faces[1]\r\n",
    "    \r\n",
    "    new_face = []\r\n",
    "    \r\n",
    "    for det in detected_face :\r\n",
    "        #Region dans laquelle la face est détectée\r\n",
    "        x, y, w, h = det\r\n",
    "        #X et y correspondent à la conversion en gris par gray, et w, h correspondent à la hauteur/largeur\r\n",
    "    \r\n",
    "        #Offset coefficient, np.floor takes the lowest integer (delete border of the image)\r\n",
    "        horizontal_offset = np.int(np.floor(offset_coefficients[0] * w))\r\n",
    "        vertical_offset = np.int(np.floor(offset_coefficients[1] * h))\r\n",
    "\r\n",
    "        #gray = cv2.cvtColor(frame, cv2.COLOR_BGR2GRAY)\r\n",
    "        #gray transforme l'image\r\n",
    "        extracted_face = gray[y+vertical_offset:y+h, x+horizontal_offset:x-horizontal_offset+w]\r\n",
    "    \r\n",
    "        #Zoom sur la face extraite\r\n",
    "        new_extracted_face = zoom(extracted_face, (shape_x / extracted_face.shape[0],shape_y / extracted_face.shape[1]))\r\n",
    "        #cast type float\r\n",
    "        new_extracted_face = new_extracted_face.astype(np.float32)\r\n",
    "        #scale\r\n",
    "        new_extracted_face /= float(new_extracted_face.max())\r\n",
    "        #print(new_extracted_face)\r\n",
    "    \r\n",
    "        new_face.append(new_extracted_face)\r\n",
    "    \r\n",
    "    return new_face"
   ],
   "outputs": [],
   "metadata": {}
  },
  {
   "cell_type": "code",
   "execution_count": null,
   "source": [],
   "outputs": [],
   "metadata": {}
  }
 ],
 "metadata": {
  "orig_nbformat": 4,
  "language_info": {
   "name": "python",
   "version": "3.8.3",
   "mimetype": "text/x-python",
   "codemirror_mode": {
    "name": "ipython",
    "version": 3
   },
   "pygments_lexer": "ipython3",
   "nbconvert_exporter": "python",
   "file_extension": ".py"
  },
  "kernelspec": {
   "name": "python3",
   "display_name": "Python 3.8.3 64-bit"
  },
  "interpreter": {
   "hash": "22e98dc126c11ed8b7da0abd0314319f11fb1123801a9053e96dbd9ca057f78a"
  }
 },
 "nbformat": 4,
 "nbformat_minor": 2
}